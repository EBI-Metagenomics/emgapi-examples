{
 "cells": [
  {
   "cell_type": "markdown",
   "metadata": {},
   "source": [
    "# Plotting Temperature and Cyanobacteria (phylum) reads, bacterias that obtain their energy through photosynthesis, normalised by number of InterPro annotations, for Tara Oceans project PRJEB1787.\n",
    "\n",
    "The following task shows how to analysie metadata and annotations retrieved from the EMG API and combined on the fly to generate the visualisations."
   ]
  },
  {
   "cell_type": "code",
   "execution_count": null,
   "metadata": {
    "collapsed": true
   },
   "outputs": [],
   "source": [
    "import copy\n",
    "try:\n",
    "    from urllib import urlencode\n",
    "except ImportError:\n",
    "    from urllib.parse import urlencode\n",
    "from pandas import DataFrame\n",
    "import matplotlib.pyplot as plt\n",
    "import numpy as np"
   ]
  },
  {
   "cell_type": "code",
   "execution_count": null,
   "metadata": {
    "collapsed": true
   },
   "outputs": [],
   "source": [
    "from jsonapi_client import Session, Filter\n",
    "\n",
    "API_BASE = 'https://www.ebi.ac.uk/metagenomics/api/latest/'"
   ]
  },
  {
   "cell_type": "markdown",
   "metadata": {},
   "source": [
    "List all runs\n",
    "https://www.ebi.ac.uk/metagenomics/api/latest/runs?experiment_type=metagenomic&study_accession=PRJEB1787"
   ]
  },
  {
   "cell_type": "code",
   "execution_count": null,
   "metadata": {},
   "outputs": [],
   "source": [
    "def find_metadata(metadata, key):\n",
    "    \"\"\"\n",
    "    Extract metadata value for given key\n",
    "    \"\"\"\n",
    "    for m in metadata:\n",
    "        if m['key'].lower() == key.lower():\n",
    "            return m['value']\n",
    "    return None\n",
    "\n",
    "\n",
    "metadata_key = 'temperature'\n",
    "normilize_key = 'Predicted CDS with InterProScan match'\n",
    "\n",
    "# map GO terms to the temperature\n",
    "result = {}\n",
    "\n",
    "\n",
    "with Session(API_BASE) as s:\n",
    "\n",
    "    # temporary dict to store accession and metadata\n",
    "    metadata_map = {}\n",
    "    # list of runs missing metadata\n",
    "    missing_meta = list()\n",
    "    \n",
    "    print('Loading data from API.', end='', flush=True)\n",
    "\n",
    "    # preparing url\n",
    "    params = {\n",
    "        'experiment_type': 'metagenomic',\n",
    "        'study_accession': 'ERP001736',\n",
    "        'page_size': 100,\n",
    "        'include': 'sample',\n",
    "    }\n",
    "    f = Filter(urlencode(params))\n",
    "    # list runs\n",
    "    for anls in s.iterate('analyses', f):\n",
    "        print('.', end='', flush=True)\n",
    "\n",
    "        # find temperature for each run\n",
    "        try:\n",
    "            m_value = float(find_metadata(anls.sample.sample_metadata, metadata_key))\n",
    "        except:\n",
    "            m_value = None\n",
    "        if m_value is not None:\n",
    "            metadata_map[anls.accession] = m_value\n",
    "        else:\n",
    "            # missing value, skip run!\n",
    "            missing_meta.append(anls.accession)\n",
    "            continue\n",
    "\n",
    "        _pcds = int(find_metadata(anls.analysis_summary, normilize_key))\n",
    "        if _pcds is None:\n",
    "            # missing value, skip run!\n",
    "            continue\n",
    "\n",
    "        _temperature = metadata_map[anls.accession]\n",
    "        try:\n",
    "            result[_temperature]\n",
    "        except KeyError:\n",
    "            result[_temperature] = {}\n",
    "\n",
    "        # list a summary of GO terms derived from InterPro matches\n",
    "        for ann in anls.taxonomy:\n",
    "            try:\n",
    "                ann.hierarchy['phylum']\n",
    "            except KeyError:\n",
    "                continue\n",
    "            if len(ann.hierarchy['phylum']) > 0:\n",
    "                l = \"{}:{}\".format(ann.hierarchy['kingdom'], ann.hierarchy['phylum'])\n",
    "                try:\n",
    "                    result[_temperature][l]\n",
    "                except KeyError:\n",
    "                    result[_temperature][l] = list()\n",
    "                # normalize annotation counts, adjusting value\n",
    "                _norm = int(ann.count)/_pcds\n",
    "                # assign value\n",
    "                result[_temperature][l].append(_norm)\n",
    "            \n",
    "\n",
    "    print(\"DONE\")\n",
    "    # print(\"Missing: \", missing_meta)"
   ]
  },
  {
   "cell_type": "markdown",
   "metadata": {},
   "source": [
    "### Clean up data"
   ]
  },
  {
   "cell_type": "code",
   "execution_count": null,
   "metadata": {
    "collapsed": true
   },
   "outputs": [],
   "source": [
    "# remove invalid temperatures\n",
    "for k in copy.deepcopy(list(result.keys())):\n",
    "    if k > 1000:\n",
    "        del result[k]\n",
    "# average value of the same temperature\n",
    "for k in result:\n",
    "    for k1 in result[k]:\n",
    "        result[k][k1] = np.mean(result[k][k1])"
   ]
  },
  {
   "cell_type": "markdown",
   "metadata": {},
   "source": [
    "### Calculate correlation"
   ]
  },
  {
   "cell_type": "code",
   "execution_count": null,
   "metadata": {
    "collapsed": true
   },
   "outputs": [],
   "source": [
    "from scipy.stats import spearmanr\n",
    "df = DataFrame(result)\n",
    "df_go = df.T[['Bacteria:Cyanobacteria']].copy()\n",
    "x = df_go.index.tolist()\n",
    "correl = []\n",
    "correl_p = []\n",
    "for k in df_go.keys():\n",
    "    y = list(df_go[k])\n",
    "    rho, p = spearmanr(x, y)\n",
    "\n",
    "    correl.append(rho)\n",
    "    correl_p.append(p)\n",
    "df_go.loc['rho'] = correl\n",
    "df_go.loc['p'] = correl_p"
   ]
  },
  {
   "cell_type": "code",
   "execution_count": null,
   "metadata": {},
   "outputs": [],
   "source": [
    "df_go"
   ]
  },
  {
   "cell_type": "markdown",
   "metadata": {},
   "source": [
    "### Plot"
   ]
  },
  {
   "cell_type": "code",
   "execution_count": null,
   "metadata": {},
   "outputs": [],
   "source": [
    "df = DataFrame(result)\n",
    "df_go_plot = df.T[['Bacteria:Cyanobacteria']].copy()\n",
    "\n",
    "pl = df_go_plot.plot(\n",
    "    y=['Bacteria:Cyanobacteria'], use_index=True, style='o', figsize=(8,5),\n",
    "    title='Temperature and Cyanobacteria (phylum) reads, bacterias that obtain their energy through photosynthesis, normalised by number of InterPro annotations, for Tara Oceans project PRJEB1787',\n",
    ")\n",
    "pl.set_xlabel(\"Temperature °C\")\n",
    "# pl.set_xlabel(\"Depth m\")\n",
    "pl.set_ylabel(\"Relative abundance\")\n",
    "\n",
    "plt.show()"
   ]
  },
  {
   "cell_type": "code",
   "execution_count": null,
   "metadata": {
    "collapsed": true
   },
   "outputs": [],
   "source": []
  }
 ],
 "metadata": {
  "kernelspec": {
   "display_name": "Python 3",
   "language": "python",
   "name": "python3"
  },
  "language_info": {
   "codemirror_mode": {
    "name": "ipython",
    "version": 3
   },
   "file_extension": ".py",
   "mimetype": "text/x-python",
   "name": "python",
   "nbconvert_exporter": "python",
   "pygments_lexer": "ipython3",
   "version": "3.6.3"
  }
 },
 "nbformat": 4,
 "nbformat_minor": 2
}
