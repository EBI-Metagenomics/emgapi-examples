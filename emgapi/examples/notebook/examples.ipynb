{
 "cells": [
  {
   "cell_type": "markdown",
   "metadata": {},
   "source": [
    "# How to use EBI Metagenomics API\n",
    "\n",
    "The EMG REST API https://www.ebi.ac.uk/metagenomics/api/ provides an easy-to-use set of top level resources, such as studies, samples, runs, experiment-types, biomes and annotations, that let user access metagenomics data in simple JSON format (JSON is a syntax for storing and exchanging data). Retrieving the data is as simple as sending a HTTP request. Response return JSON object formatted data structure that contains the resource type, associated object identifier (id) with attributes. Where appropriate, relationships and links are provided to other resources.\n",
    "\n",
    "We have utilised an interactive documentation framework (Swagger UI) to visualise and simplify interaction with the API’s resources via an HTML interface. Detailed explanations of the purpose of all resources, along with many examples, are provided to guide end-users. Documentation on how to use the endpoints is available at https://www.ebi.ac.uk/metagenomics/api/docs/."
   ]
  },
  {
   "cell_type": "markdown",
   "metadata": {},
   "source": [
    "### Import Python modules"
   ]
  },
  {
   "cell_type": "code",
   "execution_count": null,
   "metadata": {
    "collapsed": true
   },
   "outputs": [],
   "source": [
    "from pandas import DataFrame\n",
    "\n",
    "try:\n",
    "    from urllib import urlencode\n",
    "except ImportError:\n",
    "    from urllib.parse import urlencode"
   ]
  },
  {
   "cell_type": "code",
   "execution_count": null,
   "metadata": {
    "collapsed": true
   },
   "outputs": [],
   "source": [
    "from jsonapi_client import Session, Filter\n",
    "\n",
    "API_BASE = 'https://www.ebi.ac.uk/metagenomics/api/v0.2/'"
   ]
  },
  {
   "cell_type": "markdown",
   "metadata": {},
   "source": [
    "### Get study and list of the samples with biome\n",
    "\n",
    "Get study: https://www.ebi.ac.uk/metagenomics/api/v0.2/studies/ERP005831\n",
    "\n",
    "List samples: https://www.ebi.ac.uk/metagenomics/api/v0.2/studies/ERP005831/samples"
   ]
  },
  {
   "cell_type": "code",
   "execution_count": null,
   "metadata": {},
   "outputs": [],
   "source": [
    "df = DataFrame(columns=('sample name', 'biome', 'lineage'))\n",
    "df.index.name = 'accession'\n",
    "\n",
    "with Session(API_BASE) as s:\n",
    "    study = s.get('studies', 'ERP005831').resource\n",
    "    for sample in study.samples:\n",
    "        biome = sample.biome\n",
    "        df.loc[sample.accession] = [sample.sample_name, biome.biome_name, biome.lineage]\n",
    "\n",
    "df"
   ]
  },
  {
   "cell_type": "markdown",
   "metadata": {},
   "source": [
    "### List runs\n",
    "\n",
    "Get sample: https://www.ebi.ac.uk/metagenomics/api/v0.2/samples/ERS667565\n",
    "\n",
    "List runs: https://www.ebi.ac.uk/metagenomics/api/v0.2/samples/ERS667565/runs"
   ]
  },
  {
   "cell_type": "code",
   "execution_count": null,
   "metadata": {},
   "outputs": [],
   "source": [
    "df = DataFrame(columns=('instrument platform', 'instrument model', 'analysis pipeline'))\n",
    "df.index.name = 'accession'\n",
    "\n",
    "with Session(API_BASE) as s:\n",
    "    sample = s.get('samples', 'ERS667565').resource\n",
    "    for run in sample.runs:\n",
    "        df.loc[run.accession] = [\n",
    "            run.instrument_platform, run.instrument_model,\n",
    "            \", \".join([p.release_version for p in run.pipelines])\n",
    "        ]\n",
    "\n",
    "df"
   ]
  },
  {
   "cell_type": "markdown",
   "metadata": {},
   "source": [
    "### List sample metadata\n",
    "\n",
    "Get sample: https://www.ebi.ac.uk/metagenomics/api/v0.2/samples/ERS488919\n",
    "\n",
    "List sample metadata: https://www.ebi.ac.uk/metagenomics/api/v0.2/samples/ERS488919/metadata"
   ]
  },
  {
   "cell_type": "code",
   "execution_count": null,
   "metadata": {},
   "outputs": [],
   "source": [
    "def format_unit(unit):\n",
    "    import html\n",
    "    return html.unescape(m.unit) if m.unit else \"\"\n",
    "\n",
    "df = DataFrame(columns=('metadata key', 'value', 'unit'))\n",
    "\n",
    "with Session(API_BASE) as s:\n",
    "    sample = s.get('samples', 'ERS488919').resource\n",
    "    print(sample.sample_name, sample.accession)\n",
    "            \n",
    "    for i, m in enumerate(sample.metadata):\n",
    "        df.loc[i] = [\n",
    "            m.var_name, m.var_value,\n",
    "            format_unit(m.unit)\n",
    "        ]\n",
    "\n",
    "df"
   ]
  },
  {
   "cell_type": "markdown",
   "metadata": {},
   "source": [
    "### List functional annotations\n",
    "\n",
    "Gene Ontology (GO) terms derived from InterPro matches: https://www.ebi.ac.uk/metagenomics/api/v0.2/runs/ERR263024/pipelines/1.0/go-slim"
   ]
  },
  {
   "cell_type": "code",
   "execution_count": null,
   "metadata": {},
   "outputs": [],
   "source": [
    "df = DataFrame(columns=('category', 'description', 'annotation counts'))\n",
    "df.index.name = 'GO term'\n",
    "\n",
    "with Session(API_BASE) as s:\n",
    "    f = Filter('page_size=100')\n",
    "    for ann in s.iterate('runs/SRR1047054/pipelines/2.0/go-slim', f):\n",
    "        df.loc[ann.accession] = [\n",
    "            ann.lineage, ann.description, ann.count\n",
    "        ]\n",
    "df"
   ]
  },
  {
   "cell_type": "markdown",
   "metadata": {},
   "source": [
    "### List oceanic metagenomic samples collected in a temperature between 1°C and 5°C\n",
    "\n",
    "List samples: https://www.ebi.ac.uk/metagenomics/api/v0.2/biomes/root:Environmental:Aquatic:Marine:Oceanic/samples?experiment_type=metagenomic&metadata_key=temperature&metadata_value_gte=1&metadata_value_lte=5"
   ]
  },
  {
   "cell_type": "code",
   "execution_count": null,
   "metadata": {},
   "outputs": [],
   "source": [
    "def get_metadata(metadata, key='temperature'):\n",
    "    import html\n",
    "    for m in metadata:\n",
    "        if m.var_name.lower() == key.lower():\n",
    "            value = m.var_value\n",
    "            unit = html.unescape(m.unit) if m.unit else \"\"\n",
    "            return \"{value} {unit}\".format(value=value, unit=unit)\n",
    "    return None\n",
    "\n",
    "depth_label = 'geographic location (depth)'\n",
    "temp_label = 'temperature'\n",
    "df = DataFrame(columns=('sample name', 'biome', 'temperature', 'depth', 'location', 'latitude'))\n",
    "df.index.name = 'accession'\n",
    "\n",
    "with Session(API_BASE) as s:\n",
    "    params = {\n",
    "        'experiment_type': 'metagenomic',\n",
    "        'metadata_key': 'temperature',\n",
    "        'metadata_value_gte': 1,\n",
    "        'metadata_value_lte': 5,\n",
    "        'latitude_gte': 0,\n",
    "        'include': 'biome,metadata',\n",
    "    }\n",
    "    f = Filter(urlencode(params))\n",
    "    for sample in s.iterate('biomes/root:Environmental:Aquatic:Marine/samples', f):\n",
    "        df.loc[sample.accession] = [\n",
    "            sample.sample_name, sample.biome.biome_name,\n",
    "            get_metadata(sample.metadata, temp_label),\n",
    "            get_metadata(sample.metadata, depth_label),\n",
    "            sample.geo_loc_name, sample.latitude\n",
    "        ]\n",
    "df"
   ]
  },
  {
   "cell_type": "markdown",
   "metadata": {},
   "source": [
    "### Export to CSV\n",
    "\n",
    "Get study: https://www.ebi.ac.uk/metagenomics/api/v0.2/studies/ERP005831"
   ]
  },
  {
   "cell_type": "code",
   "execution_count": null,
   "metadata": {},
   "outputs": [],
   "source": [
    "import csv\n",
    "\n",
    "with open(\"test_export.csv\", \"w\") as csvfile:\n",
    "    with Session(API_BASE) as s:\n",
    "        fieldnames = ['study', 'sample', 'biome', 'lineage', 'longitude', 'latitude']\n",
    "        writer = csv.DictWriter(csvfile, fieldnames=fieldnames)\n",
    "        writer.writeheader()\n",
    "        study = s.get('studies', 'ERP005831').resource\n",
    "        for sample in study.samples:\n",
    "            biome = sample.biome\n",
    "            row = {\n",
    "                'study': study.accession,\n",
    "                'sample': sample.accession,\n",
    "                'biome': biome.biome_name,\n",
    "                'lineage': biome.lineage,\n",
    "                'longitude': sample.longitude,\n",
    "                'latitude': sample.latitude\n",
    "            }\n",
    "            writer.writerow(row)\n",
    "\n",
    "df = DataFrame().from_csv('test_export.csv')\n",
    "df"
   ]
  },
  {
   "cell_type": "code",
   "execution_count": null,
   "metadata": {
    "collapsed": true
   },
   "outputs": [],
   "source": []
  }
 ],
 "metadata": {
  "kernelspec": {
   "display_name": "Python 3",
   "language": "python",
   "name": "python3"
  },
  "language_info": {
   "codemirror_mode": {
    "name": "ipython",
    "version": 3
   },
   "file_extension": ".py",
   "mimetype": "text/x-python",
   "name": "python",
   "nbconvert_exporter": "python",
   "pygments_lexer": "ipython3",
   "version": "3.6.2"
  }
 },
 "nbformat": 4,
 "nbformat_minor": 2
}
