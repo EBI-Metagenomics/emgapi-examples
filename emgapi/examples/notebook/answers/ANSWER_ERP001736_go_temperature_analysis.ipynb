{
 "cells": [
  {
   "cell_type": "markdown",
   "metadata": {},
   "source": [
    "# Plotting temperature and photosynthesis-related GO term counts, normalised by number of InterPro annotations, for Tara Oceans project PRJEB1787.\n",
    "\n",
    "The following task shows how to analysie metadata and annotations retrieved from the EMG API and combined on the fly to generate the visualisations."
   ]
  },
  {
   "cell_type": "code",
   "execution_count": 1,
   "metadata": {
    "collapsed": true
   },
   "outputs": [],
   "source": [
    "import copy\n",
    "try:\n",
    "    from urllib import urlencode\n",
    "except ImportError:\n",
    "    from urllib.parse import urlencode\n",
    "from pandas import DataFrame\n",
    "import matplotlib.pyplot as plt\n",
    "import numpy as np"
   ]
  },
  {
   "cell_type": "code",
   "execution_count": 2,
   "metadata": {
    "collapsed": true
   },
   "outputs": [],
   "source": [
    "from jsonapi_client import Session, Filter\n",
    "\n",
    "API_BASE = 'https://www.ebi.ac.uk/metagenomics/api/v0.2/'"
   ]
  },
  {
   "cell_type": "markdown",
   "metadata": {},
   "source": [
    "List all runs\n",
    "https://www.ebi.ac.uk/metagenomics/api/v0.2/runs?experiment_type=metagenomic&study_accession=ERP001736"
   ]
  },
  {
   "cell_type": "code",
   "execution_count": 3,
   "metadata": {},
   "outputs": [
    {
     "name": "stdout",
     "output_type": "stream",
     "text": [
      "Loading data from API..........................................................................................................................................................................................................................................................DONE\n",
      "Missing:  []\n"
     ]
    }
   ],
   "source": [
    "def find_metadata(metadata, key):\n",
    "    \"\"\"\n",
    "    Extract metadata value for given key\n",
    "    \"\"\"\n",
    "    for m in metadata:\n",
    "        if m.var_name.lower() == key.lower():\n",
    "            return m.var_value\n",
    "    return None\n",
    "\n",
    "\n",
    "metadata_key = 'temperature'\n",
    "normilize_key = 'Predicted CDS with InterProScan match'\n",
    "\n",
    "# map GO terms to the temperature\n",
    "result = {}\n",
    "\n",
    "\n",
    "with Session(API_BASE) as s:\n",
    "\n",
    "    # temporary dict to store accession and metadata\n",
    "    metadata_map = {}\n",
    "    # list of runs missing metadata\n",
    "    missing_meta = list()\n",
    "    \n",
    "    print('Loading data from API.', end='', flush=True)\n",
    "\n",
    "    # preparing url\n",
    "    params = {\n",
    "        'experiment_type': 'metagenomic',\n",
    "        'study_accession': 'ERP001736',\n",
    "    }\n",
    "    f = Filter(urlencode(params))\n",
    "    # list runs\n",
    "    for run in s.iterate('runs', f):\n",
    "        print('.', end='', flush=True)\n",
    "\n",
    "        # find temperature for each run\n",
    "        m_value = int(float(find_metadata(run.sample.metadata, metadata_key)))\n",
    "        if m_value is not None:\n",
    "            metadata_map[run.accession] = m_value\n",
    "        else:\n",
    "            # missing value, skip run!\n",
    "            missing_meta.append(run.accession)\n",
    "            continue\n",
    "\n",
    "        # list analysis results for each run\n",
    "        for anls in run.analysis:\n",
    "            \n",
    "            _pcds = int(find_metadata(anls.metadata, normilize_key))\n",
    "            if _pcds is None:\n",
    "                # missing value, skip run!\n",
    "                continue\n",
    "\n",
    "            _temperature = metadata_map[anls.accession]\n",
    "            try:\n",
    "                result[_temperature]\n",
    "            except KeyError:\n",
    "                result[_temperature] = {}\n",
    "\n",
    "            # list a summary of GO terms derived from InterPro matches\n",
    "            rt = \"runs/%s/pipelines/%s/go-slim\" % (anls.accession, anls.pipeline_version)\n",
    "            af = Filter(urlencode({'page_size': 100}))\n",
    "            for ann in s.iterate(rt, af):\n",
    "                try:\n",
    "                    result[_temperature][ann.accession]\n",
    "                except KeyError:\n",
    "                    result[_temperature][ann.accession] = list()\n",
    "                # normalize annotation counts, adjusting value\n",
    "                _norm = int(ann.count)/_pcds\n",
    "                # assign value\n",
    "                result[_temperature][ann.accession].append(_norm)\n",
    "\n",
    "    print(\"DONE\")\n",
    "    print(\"Missing: \", missing_meta)"
   ]
  },
  {
   "cell_type": "markdown",
   "metadata": {},
   "source": [
    "### Clean up data"
   ]
  },
  {
   "cell_type": "code",
   "execution_count": 4,
   "metadata": {
    "collapsed": true
   },
   "outputs": [],
   "source": [
    "# remove invalid temperatures\n",
    "for k in copy.deepcopy(list(result.keys())):\n",
    "    if k > 2000:\n",
    "        del result[k]\n",
    "# average value of the same temperature\n",
    "for k in result:\n",
    "    for k1 in result[k]:\n",
    "        result[k][k1] = np.mean(result[k][k1])"
   ]
  },
  {
   "cell_type": "markdown",
   "metadata": {},
   "source": [
    "### Plot"
   ]
  },
  {
   "cell_type": "code",
   "execution_count": 5,
   "metadata": {},
   "outputs": [
    {
     "data": {
      "image/png": "[encoded data removed]",
      "text/plain": [
       "<matplotlib.figure.Figure at 0x7fb6905ebb00>"
      ]
     },
     "metadata": {},
     "output_type": "display_data"
    }
   ],
   "source": [
    "df = DataFrame(result)\n",
    "df_go = df.T[['GO:0009579','GO:0015979']].copy()\n",
    "df_go = df_go.dropna()\n",
    "\n",
    "df_go.plot(y=['GO:0009579', 'GO:0015979'], use_index=True, style='o')\n",
    "\n",
    "plt.show()"
   ]
  },
  {
   "cell_type": "markdown",
   "metadata": {},
   "source": [
    "### Calculate correlation"
   ]
  },
  {
   "cell_type": "code",
   "execution_count": 6,
   "metadata": {
    "collapsed": true
   },
   "outputs": [],
   "source": [
    "from scipy.stats import spearmanr\n",
    "x = df_go.index.tolist()\n",
    "correl = []\n",
    "correl_p = []\n",
    "for k in df_go.keys():\n",
    "    y = list(df_go[k])\n",
    "    rho, p = spearmanr(x, y)\n",
    "\n",
    "    correl.append(rho)\n",
    "    correl_p.append(p)\n",
    "df_go.loc['rho'] = correl\n",
    "df_go.loc['p'] = correl_p"
   ]
  },
  {
   "cell_type": "code",
   "execution_count": 7,
   "metadata": {},
   "outputs": [
    {
     "data": {
      "text/html": [
       "<div>\n",
       "<table border=\"1\" class=\"dataframe\">\n",
       "  <thead>\n",
       "    <tr style=\"text-align: right;\">\n",
       "      <th></th>\n",
       "      <th>GO:0009579</th>\n",
       "      <th>GO:0015979</th>\n",
       "    </tr>\n",
       "  </thead>\n",
       "  <tbody>\n",
       "    <tr>\n",
       "      <th>0</th>\n",
       "      <td>7.574880e-04</td>\n",
       "      <td>1.044502e-03</td>\n",
       "    </tr>\n",
       "    <tr>\n",
       "      <th>1</th>\n",
       "      <td>1.214248e-03</td>\n",
       "      <td>1.547666e-03</td>\n",
       "    </tr>\n",
       "    <tr>\n",
       "      <th>4</th>\n",
       "      <td>7.854478e-04</td>\n",
       "      <td>1.356231e-03</td>\n",
       "    </tr>\n",
       "    <tr>\n",
       "      <th>5</th>\n",
       "      <td>2.266193e-04</td>\n",
       "      <td>4.554714e-04</td>\n",
       "    </tr>\n",
       "    <tr>\n",
       "      <th>6</th>\n",
       "      <td>1.139834e-03</td>\n",
       "      <td>1.537404e-03</td>\n",
       "    </tr>\n",
       "    <tr>\n",
       "      <th>7</th>\n",
       "      <td>8.883851e-04</td>\n",
       "      <td>1.211750e-03</td>\n",
       "    </tr>\n",
       "    <tr>\n",
       "      <th>8</th>\n",
       "      <td>2.530999e-05</td>\n",
       "      <td>3.155513e-04</td>\n",
       "    </tr>\n",
       "    <tr>\n",
       "      <th>9</th>\n",
       "      <td>3.847138e-05</td>\n",
       "      <td>2.080294e-04</td>\n",
       "    </tr>\n",
       "    <tr>\n",
       "      <th>10</th>\n",
       "      <td>2.418478e-04</td>\n",
       "      <td>4.795358e-04</td>\n",
       "    </tr>\n",
       "    <tr>\n",
       "      <th>11</th>\n",
       "      <td>2.817284e-05</td>\n",
       "      <td>2.011906e-04</td>\n",
       "    </tr>\n",
       "    <tr>\n",
       "      <th>12</th>\n",
       "      <td>7.930959e-04</td>\n",
       "      <td>1.418735e-03</td>\n",
       "    </tr>\n",
       "    <tr>\n",
       "      <th>13</th>\n",
       "      <td>5.799675e-04</td>\n",
       "      <td>1.268235e-03</td>\n",
       "    </tr>\n",
       "    <tr>\n",
       "      <th>14</th>\n",
       "      <td>1.000066e-03</td>\n",
       "      <td>1.520009e-03</td>\n",
       "    </tr>\n",
       "    <tr>\n",
       "      <th>15</th>\n",
       "      <td>1.663090e-03</td>\n",
       "      <td>2.454089e-03</td>\n",
       "    </tr>\n",
       "    <tr>\n",
       "      <th>16</th>\n",
       "      <td>5.555265e-03</td>\n",
       "      <td>7.046279e-03</td>\n",
       "    </tr>\n",
       "    <tr>\n",
       "      <th>17</th>\n",
       "      <td>1.685470e-03</td>\n",
       "      <td>2.787639e-03</td>\n",
       "    </tr>\n",
       "    <tr>\n",
       "      <th>18</th>\n",
       "      <td>2.042726e-03</td>\n",
       "      <td>2.973594e-03</td>\n",
       "    </tr>\n",
       "    <tr>\n",
       "      <th>19</th>\n",
       "      <td>3.310672e-03</td>\n",
       "      <td>4.671189e-03</td>\n",
       "    </tr>\n",
       "    <tr>\n",
       "      <th>20</th>\n",
       "      <td>2.454067e-03</td>\n",
       "      <td>3.505371e-03</td>\n",
       "    </tr>\n",
       "    <tr>\n",
       "      <th>21</th>\n",
       "      <td>2.190473e-03</td>\n",
       "      <td>3.351692e-03</td>\n",
       "    </tr>\n",
       "    <tr>\n",
       "      <th>22</th>\n",
       "      <td>3.292020e-03</td>\n",
       "      <td>4.408908e-03</td>\n",
       "    </tr>\n",
       "    <tr>\n",
       "      <th>23</th>\n",
       "      <td>3.095848e-03</td>\n",
       "      <td>4.014839e-03</td>\n",
       "    </tr>\n",
       "    <tr>\n",
       "      <th>24</th>\n",
       "      <td>3.098045e-03</td>\n",
       "      <td>4.298100e-03</td>\n",
       "    </tr>\n",
       "    <tr>\n",
       "      <th>25</th>\n",
       "      <td>3.481259e-03</td>\n",
       "      <td>5.508126e-03</td>\n",
       "    </tr>\n",
       "    <tr>\n",
       "      <th>26</th>\n",
       "      <td>3.660954e-03</td>\n",
       "      <td>5.283513e-03</td>\n",
       "    </tr>\n",
       "    <tr>\n",
       "      <th>27</th>\n",
       "      <td>3.363359e-03</td>\n",
       "      <td>5.185434e-03</td>\n",
       "    </tr>\n",
       "    <tr>\n",
       "      <th>29</th>\n",
       "      <td>4.676227e-03</td>\n",
       "      <td>6.303058e-03</td>\n",
       "    </tr>\n",
       "    <tr>\n",
       "      <th>30</th>\n",
       "      <td>6.504884e-03</td>\n",
       "      <td>8.057269e-03</td>\n",
       "    </tr>\n",
       "    <tr>\n",
       "      <th>rho</th>\n",
       "      <td>8.270389e-01</td>\n",
       "      <td>8.347017e-01</td>\n",
       "    </tr>\n",
       "    <tr>\n",
       "      <th>p</th>\n",
       "      <td>5.779541e-08</td>\n",
       "      <td>3.357861e-08</td>\n",
       "    </tr>\n",
       "  </tbody>\n",
       "</table>\n",
       "</div>"
      ],
      "text/plain": [
       "       GO:0009579    GO:0015979\n",
       "0    7.574880e-04  1.044502e-03\n",
       "1    1.214248e-03  1.547666e-03\n",
       "4    7.854478e-04  1.356231e-03\n",
       "5    2.266193e-04  4.554714e-04\n",
       "6    1.139834e-03  1.537404e-03\n",
       "7    8.883851e-04  1.211750e-03\n",
       "8    2.530999e-05  3.155513e-04\n",
       "9    3.847138e-05  2.080294e-04\n",
       "10   2.418478e-04  4.795358e-04\n",
       "11   2.817284e-05  2.011906e-04\n",
       "12   7.930959e-04  1.418735e-03\n",
       "13   5.799675e-04  1.268235e-03\n",
       "14   1.000066e-03  1.520009e-03\n",
       "15   1.663090e-03  2.454089e-03\n",
       "16   5.555265e-03  7.046279e-03\n",
       "17   1.685470e-03  2.787639e-03\n",
       "18   2.042726e-03  2.973594e-03\n",
       "19   3.310672e-03  4.671189e-03\n",
       "20   2.454067e-03  3.505371e-03\n",
       "21   2.190473e-03  3.351692e-03\n",
       "22   3.292020e-03  4.408908e-03\n",
       "23   3.095848e-03  4.014839e-03\n",
       "24   3.098045e-03  4.298100e-03\n",
       "25   3.481259e-03  5.508126e-03\n",
       "26   3.660954e-03  5.283513e-03\n",
       "27   3.363359e-03  5.185434e-03\n",
       "29   4.676227e-03  6.303058e-03\n",
       "30   6.504884e-03  8.057269e-03\n",
       "rho  8.270389e-01  8.347017e-01\n",
       "p    5.779541e-08  3.357861e-08"
      ]
     },
     "execution_count": 7,
     "metadata": {},
     "output_type": "execute_result"
    }
   ],
   "source": [
    "df_go"
   ]
  },
  {
   "cell_type": "code",
   "execution_count": null,
   "metadata": {
    "collapsed": true
   },
   "outputs": [],
   "source": []
  }
 ],
 "metadata": {
  "kernelspec": {
   "display_name": "Python 3",
   "language": "python",
   "name": "python3"
  },
  "language_info": {
   "codemirror_mode": {
    "name": "ipython",
    "version": 3
   },
   "file_extension": ".py",
   "mimetype": "text/x-python",
   "name": "python",
   "nbconvert_exporter": "python",
   "pygments_lexer": "ipython3",
   "version": "3.6.2"
  }
 },
 "nbformat": 4,
 "nbformat_minor": 2
}
