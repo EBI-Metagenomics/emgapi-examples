{
 "cells": [
  {
   "cell_type": "markdown",
   "metadata": {},
   "source": [
    "# Plotting temperature and photosynthesis-related GO term counts, normalised by number of InterPro annotations, for Tara Oceans project PRJEB1787.\n",
    "\n",
    "This task shows how to analysie metadata and annotations retrieved from the EMG API and combined on the fly to generate the visualisations."
   ]
  },
  {
   "cell_type": "code",
   "execution_count": null,
   "metadata": {
    "collapsed": true
   },
   "outputs": [],
   "source": [
    "from jsonapi_client import Session, Filter\n",
    "\n",
    "metadata_key = 'temperature'\n",
    "normilize_meta_key = 'Total InterProScan matches'\n",
    "\n",
    "result = {}\n",
    "\n",
    "with Session('https://www.ebi.ac.uk/metagenomics/api/v0.2/') as s:\n",
    "\n",
    "    run_meta_mapping = {}\n",
    "    missing_temp = list()\n",
    "    \n",
    "    print('Loading data from API.', end='', flush=True)\n",
    "    # list samples\n",
    "    f = Filter('study_accession=ERP001736')\n",
    "    for run in s.iterate('runs', f):\n",
    "        print('.', end='', flush=True)\n",
    "        for m in run.sample.metadata:\n",
    "            if m.var_name.lower() == metadata_key.lower():\n",
    "                m_value = int(float(m.var_value))\n",
    "                run_meta_mapping[run.accession] = m_value\n",
    "        # if missing\n",
    "        try:\n",
    "            run_meta_mapping[run.accession]\n",
    "        except KeyError:\n",
    "            missing_temp.append(run.accession)\n",
    "\n",
    "        for anls in run.analysis:\n",
    "\n",
    "            for _m in anls.metadata:\n",
    "                if _m.var_name.lower() == normilize_meta_key.lower():\n",
    "                    ipr_count = _m.var_value\n",
    "\n",
    "            _key = run_meta_mapping[anls.accession]\n",
    "            try:\n",
    "                result[_key]\n",
    "            except KeyError:\n",
    "                result[_key] = {}\n",
    "\n",
    "            rt = \"runs/%s/pipelines/%s/go-slim\" % (anls.accession, anls.pipeline_version)\n",
    "            _f = Filter('page_size=100')\n",
    "            for a in s.iterate(rt, _f):\n",
    "                try:\n",
    "                    result[_key][a.accession]\n",
    "                except KeyError:\n",
    "                    result[_key][a.accession] = list()\n",
    "                _z = float(a.count)/int(ipr_count)\n",
    "                result[_key][a.accession].append(_z)\n",
    "    print(\"DONE\")\n",
    "    print(\"Missing: \", missing_temp)"
   ]
  },
  {
   "cell_type": "markdown",
   "metadata": {},
   "source": [
    "### Clean up data\n",
    "remove invalid values and calculate average of counts"
   ]
  },
  {
   "cell_type": "code",
   "execution_count": null,
   "metadata": {
    "collapsed": true
   },
   "outputs": [],
   "source": [
    "import numpy as np\n",
    "import copy\n",
    "\n",
    "for k in copy.deepcopy(list(result.keys())):\n",
    "    if k > 1000:\n",
    "        del result[k]\n",
    "for k in result:\n",
    "    for k1 in result[k]:\n",
    "        result[k][k1] = np.mean(result[k][k1])"
   ]
  },
  {
   "cell_type": "markdown",
   "metadata": {},
   "source": [
    "### Plot"
   ]
  },
  {
   "cell_type": "code",
   "execution_count": null,
   "metadata": {
    "collapsed": true
   },
   "outputs": [],
   "source": [
    "import matplotlib.pyplot as plt\n",
    "from pandas import DataFrame\n",
    "\n",
    "df = DataFrame(result).T.fillna(0)\n",
    "\n",
    "df.plot(y=['GO:0009579', 'GO:0015979'], use_index=True, style='o')\n",
    "\n",
    "plt.show()\n",
    "\n",
    "df[['GO:0009579','GO:0015979']]"
   ]
  },
  {
   "cell_type": "markdown",
   "metadata": {},
   "source": [
    "### Calculate correlation"
   ]
  },
  {
   "cell_type": "code",
   "execution_count": null,
   "metadata": {
    "collapsed": true
   },
   "outputs": [],
   "source": [
    "from scipy.stats import spearmanr\n",
    "df = DataFrame(result).T.fillna(0)\n",
    "x = df.index.tolist()\n",
    "correl = []\n",
    "correl_p = []\n",
    "for k in df.keys():\n",
    "    y = list(df[k])\n",
    "    rho, p = spearmanr(x, y)\n",
    "\n",
    "    correl.append(rho)\n",
    "    correl_p.append(p)\n",
    "df.loc['rho'] = correl\n",
    "df.loc['p'] = correl_p"
   ]
  },
  {
   "cell_type": "code",
   "execution_count": null,
   "metadata": {
    "collapsed": true
   },
   "outputs": [],
   "source": []
  }
 ],
 "metadata": {
  "kernelspec": {
   "display_name": "Python 3",
   "language": "python",
   "name": "python3"
  },
  "language_info": {
   "codemirror_mode": {
    "name": "ipython",
    "version": 3
   },
   "file_extension": ".py",
   "mimetype": "text/x-python",
   "name": "python",
   "nbconvert_exporter": "python",
   "pygments_lexer": "ipython3",
   "version": "3.6.2"
  }
 },
 "nbformat": 4,
 "nbformat_minor": 2
}
