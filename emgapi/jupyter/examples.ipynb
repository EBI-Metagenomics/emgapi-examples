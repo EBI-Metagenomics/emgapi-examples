{
 "cells": [
  {
   "cell_type": "markdown",
   "metadata": {},
   "source": [
    "# How to use EBI Metagenomics API\n",
    "\n",
    "The EMG REST API https://www.ebi.ac.uk/metagenomics/api/ provides an easy-to-use set of top level resources, such as studies, samples, runs, experiment-types, biomes and annotations, that let user access metagenomics data in simple JSON format (JSON is a syntax for storing and exchanging data). Retrieving the data is as simple as sending a HTTP request.\n",
    "\n",
    "We have utilised an interactive documentation framework (Swagger UI) to visualise and simplify interaction with the API’s resources via an HTML interface. Detailed explanations of the purpose of all resources, along with many examples, are provided to guide end-users. Documentation on how to use the endpoints is available at https://www.ebi.ac.uk/metagenomics/api/docs/."
   ]
  },
  {
   "cell_type": "markdown",
   "metadata": {},
   "source": [
    "### Import python modules"
   ]
  },
  {
   "cell_type": "code",
   "execution_count": null,
   "metadata": {
    "collapsed": true
   },
   "outputs": [],
   "source": [
    "from jsonapi_client import Session, Filter\n",
    "\n",
    "API_BASE = 'https://www.ebi.ac.uk/metagenomics/api/v0.2/'"
   ]
  },
  {
   "cell_type": "markdown",
   "metadata": {},
   "source": [
    "### Get study and list of the samples with biome"
   ]
  },
  {
   "cell_type": "code",
   "execution_count": null,
   "metadata": {
    "collapsed": true
   },
   "outputs": [],
   "source": [
    "with Session(API_BASE) as s:\n",
    "    study = s.get('studies', 'ERP005831').resource\n",
    "    for sample in study.samples:\n",
    "        print(sample.accession, sample.biome.lineage)"
   ]
  },
  {
   "cell_type": "markdown",
   "metadata": {},
   "source": [
    "### List runs"
   ]
  },
  {
   "cell_type": "code",
   "execution_count": null,
   "metadata": {
    "collapsed": true
   },
   "outputs": [],
   "source": [
    "with Session(API_BASE) as s:\n",
    "    sample = s.get('samples', 'ERS667565').resource\n",
    "    for run in sample.runs:\n",
    "        print(run.accession, [p.id for p in run.pipelines])"
   ]
  },
  {
   "cell_type": "markdown",
   "metadata": {},
   "source": [
    "### List sample metadata"
   ]
  },
  {
   "cell_type": "code",
   "execution_count": null,
   "metadata": {
    "collapsed": true
   },
   "outputs": [],
   "source": [
    "with Session(API_BASE) as s:\n",
    "    sample = s.get('samples', 'ERS488919').resource\n",
    "    for m in sample.metadata:\n",
    "        print(m.var_name, m.var_value, m.unit)"
   ]
  },
  {
   "cell_type": "markdown",
   "metadata": {},
   "source": [
    "### List functional annotations"
   ]
  },
  {
   "cell_type": "code",
   "execution_count": null,
   "metadata": {
    "collapsed": true
   },
   "outputs": [],
   "source": [
    "try:\n",
    "    from urllib import urlencode\n",
    "except ImportError:\n",
    "    from urllib.parse import urlencode\n",
    "    \n",
    "with Session(API_BASE) as s:\n",
    "    sample = s.get('samples', 'ERS238574').resource\n",
    "    for run in sample.runs:\n",
    "        for analysis in run.analysis:\n",
    "            for ann in analysis.go_slim:\n",
    "                print(ann.accession, ann.lineage, ann.description)"
   ]
  },
  {
   "cell_type": "markdown",
   "metadata": {},
   "source": [
    "### Get oceanic metagenomic samples collected in a temperature between 0°C and 10°C"
   ]
  },
  {
   "cell_type": "code",
   "execution_count": null,
   "metadata": {
    "collapsed": true
   },
   "outputs": [],
   "source": [
    "with Session(API_BASE) as s:\n",
    "    params = {\n",
    "        'experiment_type': 'metagenomic',\n",
    "        'metadata_key': 'temperature',\n",
    "        'metadata_value_gte': 0,\n",
    "        'metadata_value_lte': 10,\n",
    "    }\n",
    "    f = Filter(urlencode(params))\n",
    "    for sample in s.iterate('biomes/root:Environmental:Aquatic:Marine:Oceanic/samples', f):\n",
    "        print(sample.accession, sample.biome.lineage)"
   ]
  },
  {
   "cell_type": "markdown",
   "metadata": {},
   "source": [
    "### Export to CSV"
   ]
  },
  {
   "cell_type": "code",
   "execution_count": null,
   "metadata": {
    "collapsed": true
   },
   "outputs": [],
   "source": [
    "import csv\n",
    "\n",
    "with open(\"test_export.csv\", \"w\") as csvfile:\n",
    "    with Session(API_BASE) as s:\n",
    "        fieldnames = ['study', 'sample', 'biome', 'longitude', 'latitude']\n",
    "        writer = csv.DictWriter(csvfile, fieldnames=fieldnames)\n",
    "        writer.writeheader()\n",
    "        study = s.get('studies', 'ERP005831').resource\n",
    "        for sample in study.samples:\n",
    "            row = {\n",
    "                'study': study.accession,\n",
    "                'sample': sample.accession,\n",
    "                'biome': sample.biome.lineage,\n",
    "                'longitude': sample.longitude,\n",
    "                'latitude': sample.latitude\n",
    "            }\n",
    "            writer.writerow(row)"
   ]
  },
  {
   "cell_type": "code",
   "execution_count": null,
   "metadata": {
    "collapsed": true
   },
   "outputs": [],
   "source": []
  }
 ],
 "metadata": {
  "kernelspec": {
   "display_name": "Python 3",
   "language": "python",
   "name": "python3"
  },
  "language_info": {
   "codemirror_mode": {
    "name": "ipython",
    "version": 3
   },
   "file_extension": ".py",
   "mimetype": "text/x-python",
   "name": "python",
   "nbconvert_exporter": "python",
   "pygments_lexer": "ipython3",
   "version": "3.6.2"
  }
 },
 "nbformat": 4,
 "nbformat_minor": 2
}
