{
 "cells": [
  {
   "cell_type": "markdown",
   "metadata": {},
   "source": [
    "# How to use EBI Metagenomics API\n",
    "\n",
    "The EMG REST API https://www.ebi.ac.uk/metagenomics/api/ provides an easy-to-use set of top level resources, such as studies, samples, runs, experiment-types, biomes and annotations, that let user access metagenomics data in simple JSON format (JSON is a syntax for storing and exchanging data). Retrieving the data is as simple as sending a HTTP request.\n",
    "\n",
    "We have utilised an interactive documentation framework (Swagger UI) to visualise and simplify interaction with the API’s resources via an HTML interface. Detailed explanations of the purpose of all resources, along with many examples, are provided to guide end-users. Documentation on how to use the endpoints is available at https://www.ebi.ac.uk/metagenomics/api/docs/."
   ]
  },
  {
   "cell_type": "markdown",
   "metadata": {},
   "source": [
    "### Import python modules"
   ]
  },
  {
   "cell_type": "code",
   "execution_count": 1,
   "metadata": {
    "collapsed": true
   },
   "outputs": [],
   "source": [
    "from jsonapi_client import Session, Filter\n",
    "\n",
    "API_BASE = 'https://www.ebi.ac.uk/metagenomics/api/v0.2/'"
   ]
  },
  {
   "cell_type": "markdown",
   "metadata": {},
   "source": [
    "### Get study and list of the samples with biome"
   ]
  },
  {
   "cell_type": "code",
   "execution_count": 2,
   "metadata": {},
   "outputs": [
    {
     "name": "stdout",
     "output_type": "stream",
     "text": [
      "ERS456668 root:Environmental:Aquatic:Freshwater:Lentic:Sediment\n",
      "ERS456669 root:Environmental:Terrestrial:Soil:Loam:Agricultural\n"
     ]
    }
   ],
   "source": [
    "with Session(API_BASE) as s:\n",
    "    study = s.get('studies', 'ERP005831').resource\n",
    "    for sample in study.samples:\n",
    "        print(sample.accession, sample.biome.lineage)"
   ]
  },
  {
   "cell_type": "markdown",
   "metadata": {},
   "source": [
    "### List runs"
   ]
  },
  {
   "cell_type": "code",
   "execution_count": 3,
   "metadata": {},
   "outputs": [
    {
     "name": "stdout",
     "output_type": "stream",
     "text": [
      "ERR867951 ['4.0']\n",
      "ERR867950 ['4.0']\n",
      "ERR771104 ['2.0', '4.0']\n",
      "ERR771104 ['2.0', '4.0']\n"
     ]
    }
   ],
   "source": [
    "with Session(API_BASE) as s:\n",
    "    sample = s.get('samples', 'ERS667565').resource\n",
    "    for run in sample.runs:\n",
    "        print(run.accession, [p.id for p in run.pipelines])"
   ]
  },
  {
   "cell_type": "markdown",
   "metadata": {},
   "source": [
    "### List sample metadata"
   ]
  },
  {
   "cell_type": "code",
   "execution_count": 4,
   "metadata": {},
   "outputs": [
    {
     "name": "stdout",
     "output_type": "stream",
     "text": [
      "temperature 26.812225 &deg;C\n",
      "project name Tara Oceans expedition (2009-2013) None\n",
      "geographic location (depth) 25 m\n",
      "environmental package water None\n",
      "instrument model Illumina HiSeq 2000 None\n",
      "ENA checklist ENA TARA (ERC000030) None\n",
      "latitude end 18.5679 DD\n",
      "longitude end 66.4581 DD\n",
      "marine region n/a None\n",
      "protocol label BACT_NUC-DNA(100L)_W1.6-20 None\n",
      "sampling campaign TARA_20100309Z None\n",
      "sampling platform SV Tara None\n",
      "chlorophyll sensor 0.17638 mg Chl/m3\n",
      "citation tbd None\n",
      "event date/time end 2010-03-18T12:32 None\n",
      "event date/time start 2010-03-18T11:33 None\n",
      "event label TARA_20100318T1133Z_039_EVENT_PUMP None\n",
      "further details tbd None\n",
      "last update date 2014-05-01Z None\n",
      "nitrate sensor -0.611888 &micro;mol/L\n",
      "oxygen sensor 192.95875 &micro;mol/Kg\n",
      "salinity sensor 36.332317 psu\n",
      "sample collection device PUMP (High Volume Peristaltic Pump) with ECOTriplet None\n",
      "sample status This version can be used to provide data discovery services None\n",
      "sampling station TARA_039 None\n",
      "size fraction lower threshold 1.6 None\n",
      "size fraction upper threshold 20 None\n"
     ]
    }
   ],
   "source": [
    "with Session(API_BASE) as s:\n",
    "    sample = s.get('samples', 'ERS488919').resource\n",
    "    for m in sample.metadata:\n",
    "        print(m.var_name, m.var_value, m.unit)"
   ]
  },
  {
   "cell_type": "markdown",
   "metadata": {},
   "source": [
    "### List functional annotations"
   ]
  },
  {
   "cell_type": "code",
   "execution_count": 5,
   "metadata": {},
   "outputs": [
    {
     "name": "stdout",
     "output_type": "stream",
     "text": [
      "GO:0000156 molecular_function two-component response regulator activity\n",
      "GO:0000160 biological_process phosphorelay signal transduction system\n",
      "GO:0000166 molecular_function nucleotide binding\n",
      "GO:0000746 biological_process conjugation\n",
      "GO:0000902 biological_process cell morphogenesis\n",
      "GO:0000988 molecular_function protein binding transcription factor activity\n",
      "GO:0001071 molecular_function nucleic acid binding transcription factor activity\n",
      "GO:0002376 biological_process immune system process\n",
      "GO:0003676 molecular_function nucleic acid binding\n",
      "GO:0003774 molecular_function motor activity\n",
      "GO:0003924 molecular_function GTPase activity\n",
      "GO:0004386 molecular_function helicase activity\n",
      "GO:0004518 molecular_function nuclease activity\n",
      "GO:0004672 molecular_function protein kinase activity\n",
      "GO:0004812 molecular_function aminoacyl-tRNA ligase activity\n",
      "GO:0004872 molecular_function receptor activity\n",
      "GO:0005102 molecular_function receptor binding\n",
      "GO:0005215 molecular_function transporter activity\n",
      "GO:0005618 cellular_component cell wall\n",
      "GO:0005634 cellular_component nucleus\n",
      "GO:0005667 cellular_component transcription factor complex\n",
      "GO:0005694 cellular_component chromosome\n",
      "GO:0005727 cellular_component extrachromosomal circular DNA\n",
      "GO:0005737 cellular_component cytoplasm\n",
      "GO:0005739 cellular_component mitochondrion\n",
      "GO:0005773 cellular_component vacuole\n",
      "GO:0005783 cellular_component endoplasmic reticulum\n",
      "GO:0005794 cellular_component Golgi apparatus\n",
      "GO:0005840 cellular_component ribosome\n",
      "GO:0005856 cellular_component cytoskeleton\n",
      "GO:0005886 cellular_component plasma membrane\n",
      "GO:0005975 biological_process carbohydrate metabolic process\n",
      "GO:0006091 biological_process generation of precursor metabolites and energy\n",
      "GO:0006259 biological_process DNA metabolic process\n",
      "GO:0006351 biological_process transcription, DNA-templated\n",
      "GO:0006412 biological_process translation\n",
      "GO:0006520 biological_process cellular amino acid metabolic process\n",
      "GO:0006629 biological_process lipid metabolic process\n",
      "GO:0006790 biological_process sulfur compound metabolic process\n",
      "GO:0006807 biological_process nitrogen compound metabolic process\n",
      "GO:0006810 biological_process transport\n",
      "GO:0006811 biological_process ion transport\n",
      "GO:0006935 biological_process chemotaxis\n",
      "GO:0006950 biological_process response to stress\n",
      "GO:0007154 biological_process cell communication\n",
      "GO:0007165 biological_process signal transduction\n",
      "GO:0008092 molecular_function cytoskeletal protein binding\n",
      "GO:0008134 molecular_function transcription factor binding\n",
      "GO:0008233 molecular_function peptidase activity\n",
      "GO:0009056 biological_process catabolic process\n",
      "GO:0009058 biological_process biosynthetic process\n",
      "GO:0009117 biological_process nucleotide metabolic process\n",
      "GO:0009289 cellular_component pilus\n",
      "GO:0009295 cellular_component nucleoid\n",
      "GO:0009306 biological_process protein secretion\n",
      "GO:0009404 biological_process toxin metabolic process\n",
      "GO:0009405 biological_process pathogenesis\n",
      "GO:0009579 cellular_component thylakoid\n",
      "GO:0015979 biological_process photosynthesis\n",
      "GO:0016020 cellular_component membrane\n",
      "GO:0016032 biological_process viral process\n",
      "GO:0016043 biological_process cellular component organization\n",
      "GO:0016049 biological_process cell growth\n",
      "GO:0016070 biological_process RNA metabolic process\n",
      "GO:0016298 molecular_function lipase activity\n",
      "GO:0016301 molecular_function kinase activity\n",
      "GO:0016310 biological_process phosphorylation\n",
      "GO:0016407 molecular_function acetyltransferase activity\n",
      "GO:0016469 cellular_component proton-transporting two-sector ATPase complex\n",
      "GO:0016491 molecular_function oxidoreductase activity\n",
      "GO:0016740 molecular_function transferase activity\n",
      "GO:0016746 molecular_function transferase activity, transferring acyl groups\n",
      "GO:0016757 molecular_function transferase activity, transferring glycosyl groups\n",
      "GO:0016765 molecular_function transferase activity, transferring alkyl or aryl (other than methyl) groups\n",
      "GO:0016787 molecular_function hydrolase activity\n",
      "GO:0016788 molecular_function hydrolase activity, acting on ester bonds\n",
      "GO:0016791 molecular_function phosphatase activity\n",
      "GO:0016798 molecular_function hydrolase activity, acting on glycosyl bonds\n",
      "GO:0016810 molecular_function hydrolase activity, acting on carbon-nitrogen (but not peptide) bonds\n",
      "GO:0016829 molecular_function lyase activity\n",
      "GO:0016853 molecular_function isomerase activity\n",
      "GO:0016874 molecular_function ligase activity\n",
      "GO:0016887 molecular_function ATPase activity\n",
      "GO:0019012 cellular_component virion\n",
      "GO:0019538 biological_process protein metabolic process\n",
      "GO:0019861 cellular_component flagellum\n",
      "GO:0019867 cellular_component outer membrane\n",
      "GO:0022900 biological_process electron transport chain\n",
      "GO:0030031 biological_process cell projection assembly\n",
      "GO:0030234 molecular_function enzyme regulator activity\n",
      "GO:0031012 cellular_component extracellular matrix\n",
      "GO:0031982 cellular_component vesicle\n",
      "GO:0032196 biological_process transposition\n",
      "GO:0034061 molecular_function DNA polymerase activity\n",
      "GO:0034062 molecular_function RNA polymerase activity\n",
      "GO:0042575 cellular_component DNA polymerase complex\n",
      "GO:0042592 biological_process homeostatic process\n",
      "GO:0042597 cellular_component periplasmic space\n",
      "GO:0043190 cellular_component ATP-binding cassette (ABC) transporter complex\n",
      "GO:0043934 biological_process sporulation\n",
      "GO:0044281 biological_process small molecule metabolic process\n",
      "GO:0044403 biological_process symbiosis, encompassing mutualism through parasitism\n",
      "GO:0045182 molecular_function translation regulator activity\n",
      "GO:0045333 biological_process cellular respiration\n",
      "GO:0046034 biological_process ATP metabolic process\n",
      "GO:0046039 biological_process GTP metabolic process\n",
      "GO:0046872 molecular_function metal ion binding\n",
      "GO:0048037 molecular_function cofactor binding\n",
      "GO:0048870 biological_process cell motility\n",
      "GO:0051082 molecular_function unfolded protein binding\n",
      "GO:0051186 biological_process cofactor metabolic process\n",
      "GO:0051301 biological_process cell division\n",
      "GO:0055114 biological_process oxidation-reduction process\n",
      "GO:0070469 cellular_component respiratory chain\n",
      "GO:0071554 biological_process cell wall organization or biogenesis\n",
      "GO:0071941 biological_process nitrogen cycle metabolic process\n"
     ]
    }
   ],
   "source": [
    "try:\n",
    "    from urllib import urlencode\n",
    "except ImportError:\n",
    "    from urllib.parse import urlencode\n",
    "    \n",
    "with Session(API_BASE) as s:\n",
    "    sample = s.get('samples', 'ERS238574').resource\n",
    "    for run in sample.runs:\n",
    "        for analysis in run.analysis:\n",
    "            for ann in analysis.go_slim:\n",
    "                print(ann.accession, ann.lineage, ann.description)"
   ]
  },
  {
   "cell_type": "markdown",
   "metadata": {},
   "source": [
    "### Get oceanic metagenomic samples collected in a temperature between 0°C and 10°C"
   ]
  },
  {
   "cell_type": "code",
   "execution_count": 6,
   "metadata": {},
   "outputs": [
    {
     "name": "stdout",
     "output_type": "stream",
     "text": [
      "ERS1568974 root:Environmental:Aquatic:Marine:Oceanic\n",
      "ERS1569005 root:Environmental:Aquatic:Marine:Oceanic\n",
      "ERS1569000 root:Environmental:Aquatic:Marine:Oceanic\n",
      "ERS1568998 root:Environmental:Aquatic:Marine:Oceanic\n",
      "ERS1568997 root:Environmental:Aquatic:Marine:Oceanic\n",
      "ERS1568968 root:Environmental:Aquatic:Marine:Oceanic\n",
      "ERS1568996 root:Environmental:Aquatic:Marine:Oceanic\n",
      "ERS1568992 root:Environmental:Aquatic:Marine:Oceanic\n",
      "ERS1569006 root:Environmental:Aquatic:Marine:Oceanic\n",
      "ERS1568999 root:Environmental:Aquatic:Marine:Oceanic\n",
      "ERS1568973 root:Environmental:Aquatic:Marine:Oceanic\n",
      "ERS1569002 root:Environmental:Aquatic:Marine:Oceanic\n",
      "ERS1568966 root:Environmental:Aquatic:Marine:Oceanic\n",
      "ERS1569001 root:Environmental:Aquatic:Marine:Oceanic\n",
      "ERS1568969 root:Environmental:Aquatic:Marine:Oceanic\n",
      "ERS689136 root:Environmental:Aquatic:Marine:Oceanic:Photic zone\n",
      "ERS689141 root:Environmental:Aquatic:Marine:Oceanic:Photic zone\n",
      "ERS689142 root:Environmental:Aquatic:Marine:Oceanic:Photic zone\n",
      "ERS689356 root:Environmental:Aquatic:Marine:Oceanic:Photic zone\n",
      "ERS689357 root:Environmental:Aquatic:Marine:Oceanic:Photic zone\n",
      "ERS689358 root:Environmental:Aquatic:Marine:Oceanic:Photic zone\n",
      "ERS689359 root:Environmental:Aquatic:Marine:Oceanic:Photic zone\n",
      "ERS689360 root:Environmental:Aquatic:Marine:Oceanic:Photic zone\n",
      "ERS689365 root:Environmental:Aquatic:Marine:Oceanic:Photic zone\n",
      "ERS689371 root:Environmental:Aquatic:Marine:Oceanic:Photic zone\n",
      "ERS689372 root:Environmental:Aquatic:Marine:Oceanic:Photic zone\n",
      "ERS689373 root:Environmental:Aquatic:Marine:Oceanic:Photic zone\n",
      "ERS689374 root:Environmental:Aquatic:Marine:Oceanic:Photic zone\n",
      "ERS689375 root:Environmental:Aquatic:Marine:Oceanic:Photic zone\n",
      "ERS689376 root:Environmental:Aquatic:Marine:Oceanic:Photic zone\n",
      "ERS689377 root:Environmental:Aquatic:Marine:Oceanic:Photic zone\n",
      "ERS689378 root:Environmental:Aquatic:Marine:Oceanic:Photic zone\n",
      "ERS689379 root:Environmental:Aquatic:Marine:Oceanic:Photic zone\n",
      "ERS689381 root:Environmental:Aquatic:Marine:Oceanic:Photic zone\n",
      "ERS689391 root:Environmental:Aquatic:Marine:Oceanic:Photic zone\n",
      "ERS689392 root:Environmental:Aquatic:Marine:Oceanic:Photic zone\n",
      "ERS689393 root:Environmental:Aquatic:Marine:Oceanic:Photic zone\n",
      "ERS689403 root:Environmental:Aquatic:Marine:Oceanic:Photic zone\n",
      "ERS689404 root:Environmental:Aquatic:Marine:Oceanic:Photic zone\n",
      "ERS689405 root:Environmental:Aquatic:Marine:Oceanic:Photic zone\n",
      "ERS689406 root:Environmental:Aquatic:Marine:Oceanic:Photic zone\n",
      "ERS491095 root:Environmental:Aquatic:Marine:Oceanic\n",
      "ERS493460 root:Environmental:Aquatic:Marine:Oceanic\n",
      "ERS491767 root:Environmental:Aquatic:Marine:Oceanic\n",
      "ERS491001 root:Environmental:Aquatic:Marine:Oceanic\n",
      "ERS490373 root:Environmental:Aquatic:Marine:Oceanic\n",
      "ERS490633 root:Environmental:Aquatic:Marine:Oceanic\n",
      "ERS490065 root:Environmental:Aquatic:Marine:Oceanic\n",
      "ERS490714 root:Environmental:Aquatic:Marine:Oceanic\n",
      "ERS490928 root:Environmental:Aquatic:Marine:Oceanic\n",
      "ERS491044 root:Environmental:Aquatic:Marine:Oceanic\n",
      "ERS489727 root:Environmental:Aquatic:Marine:Oceanic\n",
      "ERS489987 root:Environmental:Aquatic:Marine:Oceanic\n",
      "ERS490230 root:Environmental:Aquatic:Marine:Oceanic\n",
      "ERS490507 root:Environmental:Aquatic:Marine:Oceanic\n",
      "ERS490885 root:Environmental:Aquatic:Marine:Oceanic\n",
      "ERS491110 root:Environmental:Aquatic:Marine:Oceanic\n",
      "ERS491980 root:Environmental:Aquatic:Marine:Oceanic\n",
      "ERS492294 root:Environmental:Aquatic:Marine:Oceanic\n",
      "ERS492381 root:Environmental:Aquatic:Marine:Oceanic\n",
      "ERS492471 root:Environmental:Aquatic:Marine:Oceanic\n",
      "ERS492680 root:Environmental:Aquatic:Marine:Oceanic\n",
      "ERS493372 root:Environmental:Aquatic:Marine:Oceanic\n",
      "ERS493705 root:Environmental:Aquatic:Marine:Oceanic\n",
      "ERS493822 root:Environmental:Aquatic:Marine:Oceanic\n",
      "ERS494006 root:Environmental:Aquatic:Marine:Oceanic\n",
      "ERS494208 root:Environmental:Aquatic:Marine:Oceanic\n",
      "ERS494431 root:Environmental:Aquatic:Marine:Oceanic\n",
      "ERS494616 root:Environmental:Aquatic:Marine:Oceanic\n",
      "SRS009554 root:Environmental:Aquatic:Marine:Oceanic\n",
      "SRS009546 root:Environmental:Aquatic:Marine:Oceanic\n",
      "SRS004796 root:Environmental:Aquatic:Marine:Oceanic:Sediment\n",
      "SRS009551 root:Environmental:Aquatic:Marine:Oceanic\n",
      "SRS009553 root:Environmental:Aquatic:Marine:Oceanic\n",
      "SRS009552 root:Environmental:Aquatic:Marine:Oceanic\n",
      "SRS009545 root:Environmental:Aquatic:Marine:Oceanic\n"
     ]
    }
   ],
   "source": [
    "with Session(API_BASE) as s:\n",
    "    params = {\n",
    "        'experiment_type': 'metagenomic',\n",
    "        'metadata_key': 'temperature',\n",
    "        'metadata_value_gte': 0,\n",
    "        'metadata_value_lte': 10,\n",
    "    }\n",
    "    f = Filter(urlencode(params))\n",
    "    for sample in s.iterate('biomes/root:Environmental:Aquatic:Marine:Oceanic/samples', f):\n",
    "        print(sample.accession, sample.biome.lineage)"
   ]
  },
  {
   "cell_type": "markdown",
   "metadata": {},
   "source": [
    "### Export to CSV"
   ]
  },
  {
   "cell_type": "code",
   "execution_count": 7,
   "metadata": {
    "collapsed": true
   },
   "outputs": [],
   "source": [
    "import csv\n",
    "\n",
    "with open(\"test_export.csv\", \"w\") as csvfile:\n",
    "    with Session(API_BASE) as s:\n",
    "        fieldnames = ['study', 'sample', 'biome', 'longitude', 'latitude']\n",
    "        writer = csv.DictWriter(csvfile, fieldnames=fieldnames)\n",
    "        writer.writeheader()\n",
    "        study = s.get('studies', 'ERP005831').resource\n",
    "        for sample in study.samples:\n",
    "            row = {\n",
    "                'study': study.accession,\n",
    "                'sample': sample.accession,\n",
    "                'biome': sample.biome.lineage,\n",
    "                'longitude': sample.longitude,\n",
    "                'latitude': sample.latitude\n",
    "            }\n",
    "            writer.writerow(row)"
   ]
  },
  {
   "cell_type": "code",
   "execution_count": null,
   "metadata": {
    "collapsed": true
   },
   "outputs": [],
   "source": []
  }
 ],
 "metadata": {
  "kernelspec": {
   "display_name": "Python 3",
   "language": "python",
   "name": "python3"
  },
  "language_info": {
   "codemirror_mode": {
    "name": "ipython",
    "version": 3
   },
   "file_extension": ".py",
   "mimetype": "text/x-python",
   "name": "python",
   "nbconvert_exporter": "python",
   "pygments_lexer": "ipython3",
   "version": "3.6.2"
  }
 },
 "nbformat": 4,
 "nbformat_minor": 2
}
