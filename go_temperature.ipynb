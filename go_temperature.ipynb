{
 "cells": [
  {
   "cell_type": "markdown",
   "metadata": {},
   "source": [
    "# Plotting temperature and photosynthesis-related GO term counts, normalised by number of InterPro annotations, for Tara Oceans project PRJEB1787.\n"
   ]
  },
  {
   "cell_type": "markdown",
   "metadata": {},
   "source": [
    "This task shows how to analysie metadata and annotations retrieved from the EMG API and combined on the fly to generate the visualisations."
   ]
  },
  {
   "cell_type": "code",
   "execution_count": 43,
   "metadata": {},
   "outputs": [
    {
     "name": "stdout",
     "output_type": "stream",
     "text": [
      "ERR599176 ; ERR599175 ; ERR599174 ; ERR599173 ; ERR599172 ; ERR599171 ; ERR599170 ; ERR599169 ; ERR599168 ; ERR599167 ; ERR599166 ; ERR599165 ; ERR599164 ; ERR599163 ; ERR599162 ; ERR599161 ; ERR599160 ; ERR599159 ; ERR599158 ; ERR599157 ; ERR599156 ; ERR599155 ; ERR599154 ; ERR599153 ; ERR599152 ; ERR599151 ; ERR599150 ; ERR599149 ; ERR599148 ; ERR599147 ; ERR599146 ; ERR599145 ; ERR599144 ; ERR599143 ; ERR599142 ; ERR599141 ; ERR599140 ; ERR599139 ; ERR599138 ; ERR599137 ; ERR599136 ; ERR599135 ; ERR599134 ; ERR599133 ; ERR599132 ; ERR599131 ; ERR599130 ; ERR599129 ; ERR599128 ; ERR599127 ; ERR599126 ; ERR599125 ; ERR599124 ; ERR599123 ; ERR599122 ; ERR599121 ; ERR599120 ; ERR599119 ; ERR599118 ; ERR599117 ; ERR599116 ; ERR599115 ; ERR599114 ; ERR599113 ; ERR599112 ; ERR599111 ; ERR599110 ; ERR599109 ; ERR599108 ; ERR599107 ; ERR599106 ; ERR599105 ; ERR599104 ; ERR599103 ; ERR599102 ; ERR599101 ; ERR599100 ; ERR599099 ; ERR599098 ; ERR599097 ; ERR599096 ; ERR599095 ; ERR599094 ; ERR599093 ; ERR599092 ; ERR599091 ; ERR599090 ; ERR599089 ; ERR599088 ; ERR599087 ; ERR599086 ; ERR599085 ; ERR599084 ; ERR599083 ; ERR599082 ; ERR599081 ; ERR599080 ; ERR599079 ; ERR599078 ; ERR599077 ; ERR599076 ; ERR599075 ; ERR599074 ; ERR599073 ; ERR599072 ; ERR599071 ; ERR599070 ; ERR599069 ; ERR599068 ; ERR599067 ; ERR599066 ; ERR599065 ; ERR599064 ; ERR599063 ; ERR599062 ; ERR599061 ; ERR599060 ; ERR599059 ; ERR599058 ; ERR599057 ; ERR599056 ; ERR599055 ; ERR599054 ; ERR599053 ; ERR599052 ; ERR599051 ; ERR599050 ; ERR599049 ; ERR599048 ; ERR599047 ; ERR599046 ; ERR599045 ; ERR599044 ; ERR599043 ; ERR599042 ; ERR599041 ; ERR599040 ; ERR599039 ; ERR599038 ; ERR599037 ; ERR599036 ; ERR599035 ; ERR599034 ; ERR599033 ; ERR599032 ; ERR599031 ; ERR599030 ; ERR599029 ; ERR599028 ; ERR599027 ; ERR599026 ; ERR599025 ; ERR599024 ; ERR599023 ; ERR599022 ; ERR599021 ; ERR599020 ; ERR599019 ; ERR599018 ; ERR599017 ; ERR599016 ; ERR599015 ; ERR599014 ; ERR599013 ; ERR599012 ; ERR599011 ; ERR599010 ; ERR599009 ; ERR599008 ; ERR599007 ; ERR599006 ; ERR599005 ; ERR599004 ; ERR599003 ; ERR599002 ; ERR599001 ; ERR599000 ; ERR598999 ; ERR598998 ; ERR598997 ; ERR598996 ; ERR598995 ; ERR598994 ; ERR598993 ; ERR598992 ; ERR598991 ; ERR598990 ; ERR598989 ; ERR598988 ; ERR598987 ; ERR598986 ; ERR598985 ; ERR598984 ; ERR598983 ; ERR598982 ; ERR598981 ; ERR598980 ; ERR598979 ; ERR598978 ; ERR598977 ; ERR598976 ; ERR598975 ; ERR598974 ; ERR598973 ; ERR598972 ; ERR598971 ; ERR598970 ; ERR598969 ; ERR598968 ; ERR598967 ; ERR598966 ; ERR598965 ; ERR598964 ; ERR598963 ; ERR598962 ; ERR598961 ; ERR598960 ; ERR598959 ; ERR598958 ; ERR598957 ; ERR598956 ; ERR598955 ; ERR598954 ; ERR598953 ; ERR598952 ; ERR598951 ; ERR598950 ; ERR598949 ; ERR598948 ; ERR598947 ; ERR598946 ; ERR598945 ; ERR598944 ; ERR598943 ; ERR598942 ; ERR318621 ; ERR318620 ; ERR318619 ; ERR318618 ; ERR315863 ; ERR315862 ; ERR315861 ; ERR315860 ; ERR315859 ; ERR315858 ; ERR1701760 ; ERR164409 ; ERR164408 ; ERR164407 ; MISSING:\n",
      "[]\n"
     ]
    }
   ],
   "source": [
    "import csv\n",
    "from itertools import zip_longest\n",
    "from jsonapi_client import Session, Filter\n",
    "\n",
    "metadata_key = 'temperature'\n",
    "normilize_meta_key = 'Total InterProScan matches'\n",
    "\n",
    "result = {}\n",
    "\n",
    "with Session('https://www.ebi.ac.uk/metagenomics/api/v0.2/') as s:\n",
    "\n",
    "    run_meta_mapping = {}\n",
    "    missing_temp = list()\n",
    "    # list samples\n",
    "    f = Filter('study_accession=ERP001736')\n",
    "    for run in s.iterate('runs', f):\n",
    "        print(run.accession, '; ', end='', flush=True)\n",
    "        for m in run.sample.metadata:\n",
    "            if m.var_name.lower() == metadata_key.lower():\n",
    "                m_value = int(float(m.var_value))\n",
    "                run_meta_mapping[run.accession] = m_value\n",
    "        # if missing\n",
    "        try:\n",
    "            run_meta_mapping[run.accession]\n",
    "        except KeyError:\n",
    "            missing_temp.append(run.accession)\n",
    "\n",
    "        for anls in run.analysis:\n",
    "\n",
    "            for _m in anls.metadata:\n",
    "                if _m.var_name.lower() == normilize_meta_key.lower():\n",
    "                    ipr_count = _m.var_value\n",
    "\n",
    "            _key = run_meta_mapping[anls.accession]\n",
    "            try:\n",
    "                result[_key]\n",
    "            except KeyError:\n",
    "                result[_key] = {}\n",
    "\n",
    "            rt = \"runs/%s/pipelines/%s/go-slim\" % (anls.accession, anls.pipeline_version)\n",
    "            _f = Filter('page_size=100')\n",
    "            for a in s.iterate(rt, f):\n",
    "                try:\n",
    "                    result[_key][a.accession]\n",
    "                except KeyError:\n",
    "                    result[_key][a.accession] = list()\n",
    "                _z = float(a.count)/int(ipr_count)\n",
    "                # print(a.count, ipr_count,  _z)\n",
    "                result[_key][a.accession].append(_z)\n",
    "    print(\"MISSING:\")\n",
    "    print(missing_temp)"
   ]
  },
  {
   "cell_type": "markdown",
   "metadata": {},
   "source": [
    "### Clean up data\n",
    "remove invalid temperatures and average multiple results"
   ]
  },
  {
   "cell_type": "code",
   "execution_count": 44,
   "metadata": {
    "collapsed": true
   },
   "outputs": [],
   "source": [
    "import numpy as np\n",
    "\n",
    "import copy\n",
    "keys = copy.deepcopy(list(result.keys()))\n",
    "for k in keys:\n",
    "    if k > 200:\n",
    "        del result[k]\n",
    "for k in result:\n",
    "    for k1 in result[k]:\n",
    "        #print(k, k1, result[k][k1], np.mean(result[k][k1]))\n",
    "        result[k][k1] = np.mean(result[k][k1])\n",
    "\n"
   ]
  },
  {
   "cell_type": "markdown",
   "metadata": {},
   "source": [
    "### Plot"
   ]
  },
  {
   "cell_type": "code",
   "execution_count": 45,
   "metadata": {},
   "outputs": [
    {
     "data": {
      "image/png": "[encoded data removed]",
      "text/plain": [
       "<matplotlib.figure.Figure at 0x7eff3039c5f8>"
      ]
     },
     "metadata": {},
     "output_type": "display_data"
    }
   ],
   "source": [
    "import matplotlib.pyplot as plt\n",
    "from pandas import *\n",
    "\n",
    "df = DataFrame(result).T.fillna(0)\n",
    "\n",
    "df.plot(y=['GO:0009579', 'GO:0015979'], use_index=True, style='o')\n",
    "\n",
    "plt.show()\n"
   ]
  },
  {
   "cell_type": "markdown",
   "metadata": {},
   "source": [
    "### Calculate correlation"
   ]
  },
  {
   "cell_type": "code",
   "execution_count": 46,
   "metadata": {
    "collapsed": true
   },
   "outputs": [],
   "source": [
    "from scipy.stats import spearmanr\n",
    "df = DataFrame(result).T.fillna(0)\n",
    "x = df.index.tolist()\n",
    "correl = []\n",
    "correl_p = []\n",
    "for k in df.keys():\n",
    "    y = list(df[k])\n",
    "    rho, p = spearmanr(x, y)\n",
    "\n",
    "    correl.append(rho)\n",
    "    correl_p.append(p)\n",
    "df.loc['rho'] = correl\n",
    "df.loc['p'] = correl_p"
   ]
  },
  {
   "cell_type": "code",
   "execution_count": 53,
   "metadata": {},
   "outputs": [
    {
     "name": "stdout",
     "output_type": "stream",
     "text": [
      "       GO:0009579    GO:0015979\n",
      "0    4.644260e-04  6.412519e-04\n",
      "1    7.436903e-04  9.478596e-04\n",
      "4    4.866566e-04  8.416406e-04\n",
      "5    1.424872e-04  2.853201e-04\n",
      "6    7.041597e-04  9.503693e-04\n",
      "7    5.550468e-04  7.563515e-04\n",
      "8    1.575606e-05  1.966229e-04\n",
      "9    2.477207e-05  1.328084e-04\n",
      "10   1.487709e-04  2.954467e-04\n",
      "11   1.753299e-05  1.251089e-04\n",
      "12   4.871398e-04  8.731830e-04\n",
      "13   3.578740e-04  7.825523e-04\n",
      "14   6.139383e-04  9.349423e-04\n",
      "15   1.011231e-03  1.492276e-03\n",
      "16   3.429858e-03  4.350804e-03\n",
      "17   1.025260e-03  1.694947e-03\n",
      "18   1.295458e-03  1.884112e-03\n",
      "19   2.061411e-03  2.906688e-03\n",
      "20   1.515476e-03  2.163165e-03\n",
      "21   1.372120e-03  2.098958e-03\n",
      "22   2.022036e-03  2.708211e-03\n",
      "23   1.897884e-03  2.462045e-03\n",
      "24   1.919914e-03  2.667318e-03\n",
      "25   2.145032e-03  3.397533e-03\n",
      "26   2.257121e-03  3.259795e-03\n",
      "27   2.088450e-03  3.226172e-03\n",
      "29   2.887544e-03  3.893314e-03\n",
      "30   3.981264e-03  4.931415e-03\n",
      "rho  8.270389e-01  8.363437e-01\n",
      "p    5.779541e-08  2.978357e-08\n"
     ]
    }
   ],
   "source": [
    "print(df[['GO:0009579','GO:0015979']])"
   ]
  },
  {
   "cell_type": "code",
   "execution_count": null,
   "metadata": {
    "collapsed": true
   },
   "outputs": [],
   "source": []
  }
 ],
 "metadata": {
  "kernelspec": {
   "display_name": "Python 3",
   "language": "python",
   "name": "python3"
  },
  "language_info": {
   "codemirror_mode": {
    "name": "ipython",
    "version": 3
   },
   "file_extension": ".py",
   "mimetype": "text/x-python",
   "name": "python",
   "nbconvert_exporter": "python",
   "pygments_lexer": "ipython3",
   "version": "3.6.1"
  }
 },
 "nbformat": 4,
 "nbformat_minor": 2
}